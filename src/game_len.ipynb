{
 "cells": [
  {
   "cell_type": "code",
   "execution_count": 1,
   "id": "f775f86c",
   "metadata": {},
   "outputs": [],
   "source": [
    "import pandas as pd\n",
    "pd.set_option('mode.chained_assignment', None)\n",
    "pd.set_option('display.max_rows', 500)\n",
    "import warnings\n",
    "warnings.filterwarnings('ignore') # setting ignore as a parameter\n",
    "import numpy as np \n",
    "import random\n",
    "import psycopg2\n",
    "import logging"
   ]
  },
  {
   "cell_type": "code",
   "execution_count": 2,
   "id": "4508512a",
   "metadata": {},
   "outputs": [],
   "source": [
    "conn = psycopg2.connect(database=\"postgres\",\n",
    "                        host=\"pklmartdb.ckkvdwandqoa.us-east-1.rds.amazonaws.com\",\n",
    "                        user=\"cmcnicholas\",\n",
    "                        password=\"momentum101\",\n",
    "                        port=\"5432\")\n",
    "conn.autocommit = True"
   ]
  },
  {
   "cell_type": "code",
   "execution_count": 3,
   "id": "145872cb",
   "metadata": {},
   "outputs": [],
   "source": [
    "#now we will Create and configure logger \n",
    "logging.basicConfig(filename=\"rallylog.log\", format='%(message)s', filemode='w') \n",
    "\n",
    "#Let us Create an object \n",
    "logger=logging.getLogger() \n",
    "\n",
    "#Now we are going to Set the threshold of logger to DEBUG \n",
    "logger.setLevel(logging.WARNING) "
   ]
  },
  {
   "cell_type": "code",
   "execution_count": 4,
   "id": "298d0d2c",
   "metadata": {},
   "outputs": [],
   "source": [
    "def pullawsdata(tablename):\n",
    "    with conn,conn.cursor() as cursor:\n",
    "        try:\n",
    "            cursor.execute(f\"SELECT column_name FROM information_schema.columns where table_name=\\'{tablename}\\';\")\n",
    "            cols=cursor.fetchall()\n",
    "            cols = [cols[x][0] for x in range(len(cols))]\n",
    "            cursor.execute(f\"SELECT * FROM pklm_prd.{tablename}\")\n",
    "            data=cursor.fetchall()\n",
    "            return(pd.DataFrame(data,columns=cols))\n",
    "        except Exception as inst:\n",
    "            print(type(inst))\n",
    "            print(inst.args)\n",
    "            print(inst)"
   ]
  },
  {
   "cell_type": "code",
   "execution_count": 46,
   "id": "4b442b3d",
   "metadata": {},
   "outputs": [],
   "source": [
    "rly = pullawsdata('rally')\n",
    "match = pullawsdata('match')"
   ]
  },
  {
   "cell_type": "code",
   "execution_count": 51,
   "metadata": {},
   "outputs": [
    {
     "name": "stdout",
     "output_type": "stream",
     "text": [
      "<class 'ValueError'>\n",
      "('year -1 is out of range',)\n",
      "year -1 is out of range\n"
     ]
    }
   ],
   "source": [
    "game = pullawsdata('game')\n"
   ]
  },
  {
   "cell_type": "code",
   "execution_count": 75,
   "metadata": {},
   "outputs": [
    {
     "ename": "ValueError",
     "evalue": "year -1 is out of range",
     "output_type": "error",
     "traceback": [
      "\u001b[0;31m---------------------------------------------------------------------------\u001b[0m",
      "\u001b[0;31mValueError\u001b[0m                                Traceback (most recent call last)",
      "\u001b[1;32m/home/conner/Desktop/game_len.ipynb Cell 7\u001b[0m line \u001b[0;36m6\n\u001b[1;32m      <a href='vscode-notebook-cell:/home/conner/Desktop/game_len.ipynb#X31sZmlsZQ%3D%3D?line=3'>4</a>\u001b[0m cols \u001b[39m=\u001b[39m [cols[x][\u001b[39m0\u001b[39m] \u001b[39mfor\u001b[39;00m x \u001b[39min\u001b[39;00m \u001b[39mrange\u001b[39m(\u001b[39mlen\u001b[39m(cols))]\n\u001b[1;32m      <a href='vscode-notebook-cell:/home/conner/Desktop/game_len.ipynb#X31sZmlsZQ%3D%3D?line=4'>5</a>\u001b[0m cursor\u001b[39m.\u001b[39mexecute(\u001b[39mf\u001b[39m\u001b[39m\"\u001b[39m\u001b[39mSELECT * FROM pklm_prd.game\u001b[39m\u001b[39m\"\u001b[39m)\n\u001b[0;32m----> <a href='vscode-notebook-cell:/home/conner/Desktop/game_len.ipynb#X31sZmlsZQ%3D%3D?line=5'>6</a>\u001b[0m data \u001b[39m=\u001b[39m cursor\u001b[39m.\u001b[39;49mfetchall()\n\u001b[1;32m      <a href='vscode-notebook-cell:/home/conner/Desktop/game_len.ipynb#X31sZmlsZQ%3D%3D?line=6'>7</a>\u001b[0m \u001b[39mprint\u001b[39m(pd\u001b[39m.\u001b[39mDataFrame(data,columns\u001b[39m=\u001b[39mcols))\n",
      "\u001b[0;31mValueError\u001b[0m: year -1 is out of range"
     ]
    }
   ],
   "source": [
    "with conn,conn.cursor() as cursor:\n",
    "    cursor.execute(f\"SELECT column_name FROM information_schema.columns where table_name='game';\")\n",
    "    cols=cursor.fetchall()\n",
    "    cols = [cols[x][0] for x in range(len(cols))]\n",
    "    cursor.execute(f\"SELECT * FROM pklm_prd.game\")\n",
    "    data = cursor.fetchall()\n",
    "    print(pd.DataFrame(data,columns=cols))"
   ]
  },
  {
   "cell_type": "code",
   "execution_count": 70,
   "metadata": {},
   "outputs": [
    {
     "data": {
      "text/plain": [
       "['game_nbr',\n",
       " 'dt_played',\n",
       " 'maint_dtm',\n",
       " 'score_w',\n",
       " 'create_dtm',\n",
       " 'score_l',\n",
       " 'scoring_type',\n",
       " 'det_user',\n",
       " 'ball_type',\n",
       " 'maint_app',\n",
       " 'game_id',\n",
       " 'create_app',\n",
       " 'match_id',\n",
       " 'w_team_id',\n",
       " 'l_team_id',\n",
       " 'vod_url',\n",
       " 'skill_lvl']"
      ]
     },
     "execution_count": 70,
     "metadata": {},
     "output_type": "execute_result"
    }
   ],
   "source": [
    "cols"
   ]
  },
  {
   "cell_type": "code",
   "execution_count": 58,
   "metadata": {},
   "outputs": [
    {
     "name": "stdout",
     "output_type": "stream",
     "text": [
      "# matches: 340\n",
      "# rallies: 21156\n"
     ]
    }
   ],
   "source": [
    "print(f'# matches: {len(match)}')\n",
    "print(f'# rallies: {len(rly)}')"
   ]
  },
  {
   "cell_type": "code",
   "execution_count": null,
   "metadata": {},
   "outputs": [],
   "source": []
  },
  {
   "cell_type": "code",
   "execution_count": 45,
   "metadata": {},
   "outputs": [
    {
     "name": "stdout",
     "output_type": "stream",
     "text": [
      "('ball_type_ref',)\n",
      "('metrics_ref',)\n",
      "('shot_temp',)\n",
      "('shot',)\n",
      "('cv_player_pos',)\n",
      "('shot_type_ref',)\n",
      "('rally',)\n",
      "('backfill',)\n",
      "('match',)\n",
      "('game',)\n",
      "('team',)\n",
      "('player',)\n",
      "('model_info',)\n",
      "('tournament',)\n",
      "('baseline_metrics',)\n",
      "('game_temp',)\n",
      "('up_player_cw',)\n"
     ]
    }
   ],
   "source": [
    "with conn,conn.cursor() as cursor:\n",
    "    cursor.execute(f\"\"\"SELECT table_name FROM information_schema.tables where table_schema='pklm_prd'\"\"\")\n",
    "    for table in cursor.fetchall():\n",
    "        print(table)"
   ]
  },
  {
   "cell_type": "code",
   "execution_count": null,
   "metadata": {},
   "outputs": [],
   "source": [
    "numtos = sum(rly.to_team_id != 'N/A')\n",
    "numrallies = sum(rly.to_team_id == 'N/A')\n",
    "numsrvwin = sum(rly.srv_team_id == rly.w_team_id)\n",
    "pctsrvwin = round(100*numsrvwin/numrallies,2)\n",
    "print(f'total number of rallies in dataset: {numrallies} (ignores {numtos} timeouts)')\n",
    "print(f'serving team won {pctsrvwin}% of rallies')"
   ]
  },
  {
   "cell_type": "code",
   "execution_count": 5,
   "id": "1bb84adc",
   "metadata": {},
   "outputs": [
    {
     "data": {
      "text/html": [
       "<div>\n",
       "<style scoped>\n",
       "    .dataframe tbody tr th:only-of-type {\n",
       "        vertical-align: middle;\n",
       "    }\n",
       "\n",
       "    .dataframe tbody tr th {\n",
       "        vertical-align: top;\n",
       "    }\n",
       "\n",
       "    .dataframe thead th {\n",
       "        text-align: right;\n",
       "    }\n",
       "</style>\n",
       "<table border=\"1\" class=\"dataframe\">\n",
       "  <thead>\n",
       "    <tr style=\"text-align: right;\">\n",
       "      <th></th>\n",
       "      <th>scoreA</th>\n",
       "      <th>scoreB</th>\n",
       "      <th>srv_team</th>\n",
       "      <th>win_team</th>\n",
       "      <th>to_ind</th>\n",
       "      <th>to_team_id</th>\n",
       "    </tr>\n",
       "  </thead>\n",
       "  <tbody>\n",
       "  </tbody>\n",
       "</table>\n",
       "</div>"
      ],
      "text/plain": [
       "Empty DataFrame\n",
       "Columns: [scoreA, scoreB, srv_team, win_team, to_ind, to_team_id]\n",
       "Index: []"
      ]
     },
     "execution_count": 5,
     "metadata": {},
     "output_type": "execute_result"
    }
   ],
   "source": [
    "df_coinsim = pd.DataFrame([],columns=['scoreA','scoreB','srv_team','win_team','to_ind','to_team_id'])\n",
    "df_coinsim"
   ]
  },
  {
   "cell_type": "code",
   "execution_count": 151,
   "id": "ebefbf98",
   "metadata": {},
   "outputs": [],
   "source": [
    "def coinsim(n,p,t):\n",
    "    logging.info(f'simulating game:\\n\\tfirst to {n} points (win by 2) \\\n",
    "    #\\n\\twith odds of serving team winning rally: {p}% \\\n",
    "    #\\n\\twith {t} random timeouts')\n",
    "    scoredict = {'A':0,'B':0}\n",
    "    srvr,rcvr = list(np.random.choice(['A','B'],size=2,replace=False, p=[0.50,0.50]))\n",
    "    global rallynum \n",
    "    rallynum = 0 \n",
    "    \n",
    "    #first to 11 wins\n",
    "    while gameon(n,scoredict):\n",
    "        logging.info(f'\\nscore -> A:{scoredict[\"A\"]} | B:{scoredict[\"B\"]}')\n",
    "        scoredict,srvr = serveround(scoredict,srvr,n,p) \n",
    "        \n",
    "    logging.info(f'final score after {rallynum} rallies -- A:{scoredict[\"A\"]}{(1-scoredict[\"A\"]//10)*\" \"} | B:{scoredict[\"B\"]}')\n",
    "    logging.info(f'\\n\\n\\t\\t\\tWINNER: {list(scoredict.keys())[list(scoredict.values()).index(max(scoredict.values()))]}')"
   ]
  },
  {
   "cell_type": "code",
   "execution_count": 152,
   "id": "107e35d5",
   "metadata": {},
   "outputs": [],
   "source": [
    "def gameon(n,scoredict):\n",
    "    bothunderN = max(scoredict.values()) < n\n",
    "    #if neither team has reached 11, continue playing\n",
    "    if bothunderN:\n",
    "        return True\n",
    "    #if 11 has been reached, make sure winner has won by 2\n",
    "    else:\n",
    "        scorediff = abs(scoredict['A']-scoredict['B'])\n",
    "        wonbytwo = scorediff >= 2\n",
    "        #if either team has reached 11 but does not have 2 more points than the other, continue playing\n",
    "        if wonbytwo == False:\n",
    "            if scorediff == 0:\n",
    "                logging.info('\\t\\tDEUCES!')\n",
    "            else:\n",
    "                logging.info(f'\\t\\tADVANTAGE: {list(scoredict.keys())[list(scoredict.values()).index(max(scoredict.values()))]}')\n",
    "            return True\n",
    "        #if either team has reached 11 and has 2 more points than the other, the game is over\n",
    "        else:\n",
    "            return False\n",
    "        "
   ]
  },
  {
   "cell_type": "code",
   "execution_count": 153,
   "id": "972da577",
   "metadata": {},
   "outputs": [],
   "source": [
    "#simulates one full round of serving\n",
    "def serveround(scoredict,srvr,n,p):\n",
    "    rcvr = list({'A','B'}.symmetric_difference(srvr))[0]\n",
    "    logging.info(f'server: {srvr} | receiver: {rcvr}')\n",
    "    \n",
    "    #start of 1st server\n",
    "    srvnum = 1\n",
    "    \n",
    "    #serving team changes after losing 2 rallies\n",
    "    while srvnum <= 2 and gameon(n,scoredict):\n",
    "        global rallynum\n",
    "        rallynum += 1\n",
    "        logging.info(f'\\n\\tSTART OF RALLY SCORE -> A:{scoredict[\"A\"]} | B:{scoredict[\"B\"]}')\n",
    "        logging.info(f'{srvr} #{srvnum} serving')\n",
    "        #server has 45% chance of winning rally\n",
    "        winr = list(random.choices([srvr,rcvr],cum_weights = (p,1.00),k=1))[0]\n",
    "        #if server wins\n",
    "        if srvr == winr:\n",
    "            #add 1 to serving team's score\n",
    "            logging.info(f'server({srvr}) won rally, still server #{srvnum}')\n",
    "            scoredict[srvr] += 1\n",
    "            \n",
    "        #if serving team loses\n",
    "        else:\n",
    "            #add 1 to server number\n",
    "            srvnum += 1\n",
    "            logging.info(f'server({srvr}) lost rally, server # now {srvnum}')\n",
    "        logging.info(f'\\tEND OF RALLY SCORE -> A:{scoredict[\"A\"]} | B:{scoredict[\"B\"]}\\n')\n",
    "        \n",
    "    #change server after losing rally on second server\n",
    "    newserver = list({'A','B'}.symmetric_difference(srvr))[0]\n",
    "    \n",
    "    logging.info(f'serveround RETURNING ({scoredict},{newserver})\\n')\n",
    "\n",
    "    #return score and new serving team\n",
    "    return (scoredict,newserver)"
   ]
  },
  {
   "cell_type": "code",
   "execution_count": 158,
   "id": "afcabfea",
   "metadata": {},
   "outputs": [
    {
     "name": "stdout",
     "output_type": "stream",
     "text": [
      "average number of rallies in 10000 SIMULATED games to 11: 42.2\n"
     ]
    }
   ],
   "source": [
    "n=11\n",
    "listrlycnt  = []\n",
    "for c in range(10001):\n",
    "    rallynum = 0\n",
    "    coinsim(n,.4204,3)\n",
    "    listrlycnt.append(rallynum)\n",
    "print(f'average number of rallies in {c} SIMULATED games to {n}: {round(np.mean(listrlycnt),1)}')"
   ]
  },
  {
   "cell_type": "code",
   "execution_count": 159,
   "id": "f7472e6b",
   "metadata": {},
   "outputs": [
    {
     "name": "stdout",
     "output_type": "stream",
     "text": [
      "average number of rallies in 10000 SIMULATED games to 15: 59.0\n"
     ]
    }
   ],
   "source": [
    "n=15\n",
    "listrlycnt  = []\n",
    "for c in range(10001):\n",
    "    rallynum = 0\n",
    "    coinsim(n,.4204,3)\n",
    "    listrlycnt.append(rallynum)\n",
    "print(f'average number of rallies in {c} SIMULATED games to {n}: {round(np.mean(listrlycnt),1)}')"
   ]
  },
  {
   "cell_type": "code",
   "execution_count": 88,
   "id": "990a335f",
   "metadata": {},
   "outputs": [],
   "source": [
    "rally = pullawsdata('rally')\n",
    "rally = rally[['game_id', 'rally_id', 'rally_nbr', 'srv_team_id', 'w_team_id', 'to_team_id']]\n",
    "rally['game_id'] = [int(x[1:]) for x in rally.game_id]\n",
    "rally['rally_id'] = [int(x[1:]) for x in rally.rally_id]\n",
    "rally = rally.sort_values(['game_id', 'rally_id', 'rally_nbr']).reset_index(drop=True)"
   ]
  },
  {
   "cell_type": "code",
   "execution_count": 99,
   "id": "9beebb0f",
   "metadata": {},
   "outputs": [
    {
     "name": "stdout",
     "output_type": "stream",
     "text": [
      "average number of rallies in 54 REAL games: 47.04\n"
     ]
    }
   ],
   "source": [
    "rlyst = [rs < 0 for rs in [y-x for x,y in list(zip(rally.rally_nbr[:-1],rally.rally_nbr[1:]))]]\n",
    "rlyst.append(False)\n",
    "avgrallies = round(np.mean(rally[rlyst].rally_nbr),2)\n",
    "print(f'average number of rallies in {len(pullawsdata(\"game\"))} REAL games: {avgrallies}')"
   ]
  },
  {
   "cell_type": "code",
   "execution_count": 179,
   "id": "e56740b1",
   "metadata": {},
   "outputs": [
    {
     "name": "stdout",
     "output_type": "stream",
     "text": [
      "2.2972972972972974\n",
      "3.3636363636363638\n",
      "5.5\n"
     ]
    }
   ],
   "source": [
    "print(85/37)\n",
    "print(37/11)\n",
    "print(11/2)"
   ]
  }
 ],
 "metadata": {
  "kernelspec": {
   "display_name": "Python 3 (ipykernel)",
   "language": "python",
   "name": "python3"
  },
  "language_info": {
   "codemirror_mode": {
    "name": "ipython",
    "version": 3
   },
   "file_extension": ".py",
   "mimetype": "text/x-python",
   "name": "python",
   "nbconvert_exporter": "python",
   "pygments_lexer": "ipython3",
   "version": "3.10.10"
  }
 },
 "nbformat": 4,
 "nbformat_minor": 5
}
