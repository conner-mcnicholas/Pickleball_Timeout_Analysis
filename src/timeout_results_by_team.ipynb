{
 "cells": [
  {
   "cell_type": "code",
   "execution_count": 1,
   "id": "c37d4312",
   "metadata": {},
   "outputs": [],
   "source": [
    "import pandas as pd\n",
    "pd.set_option('mode.chained_assignment', None)\n",
    "from collections import Counter\n",
    "import numpy as np\n",
    "import psycopg2\n",
    "from matplotlib import pyplot as plt\n",
    "import matplotlib.mlab as mlab\n",
    "import matplotlib.style as mplstyle\n",
    "import matplotlib.patches as mpatches\n",
    "from matplotlib.ticker import (PercentFormatter,MultipleLocator, AutoMinorLocator)\n",
    "import seaborn as sns"
   ]
  },
  {
   "cell_type": "code",
   "execution_count": 2,
   "id": "aaf5519b",
   "metadata": {},
   "outputs": [],
   "source": [
    "conn = psycopg2.connect(database=\"postgres\",\n",
    "                        host=\"pklmartdb.ckkvdwandqoa.us-east-1.rds.amazonaws.com\",\n",
    "                        user=\"cmcnicholas\",\n",
    "                        password=\"momentum101\",\n",
    "                        port=\"5432\")\n",
    "conn.autocommit = True"
   ]
  },
  {
   "cell_type": "code",
   "execution_count": 3,
   "id": "595d2535",
   "metadata": {},
   "outputs": [],
   "source": [
    "def pullawsdata(tablename):\n",
    "    with conn,conn.cursor() as cursor:\n",
    "        try:\n",
    "            cursor.execute(f\"SELECT column_name FROM information_schema.columns where table_name='{tablename}';\")\n",
    "            cols=cursor.fetchall()\n",
    "            print(cols)\n",
    "            cols = [cols[x][0] for x in range(len(cols))]\n",
    "            print(cols)\n",
    "            cols = set(cols).symmetric_difference([\"create_dtm\",\"maint_dtm\",\"dt_played\"])\n",
    "            print(cols)\n",
    "            cursor.execute(f\"DROP TABLE IF EXISTS cmmtemp; CREATE TEMP TABLE cmmtemp AS SELECT * FROM pklm_prd.{tablename}; ALTER TABLE cmmtemp DROP COLUMN IF EXISTS create_dtm,DROP COLUMN IF EXISTS maint_dtm,DROP COLUMN IF EXISTS dt_played;SELECT * FROM cmmtemp;\")\n",
    "            data=cursor.fetchall()\n",
    "            return(pd.DataFrame(data,columns=list(cols)))\n",
    "        except Exception as inst:\n",
    "            print(type(inst))    \n",
    "            print(inst.args)     \n",
    "            print(inst)"
   ]
  },
  {
   "cell_type": "code",
   "execution_count": 4,
   "id": "427f7b38",
   "metadata": {},
   "outputs": [],
   "source": [
    "rally=pullawsdata('rally')"
   ]
  },
  {
   "cell_type": "code",
   "execution_count": 5,
   "id": "4a0173e8",
   "metadata": {},
   "outputs": [
    {
     "ename": "TypeError",
     "evalue": "'Timestamp' object is not subscriptable",
     "output_type": "error",
     "traceback": [
      "\u001b[0;31m---------------------------------------------------------------------------\u001b[0m",
      "\u001b[0;31mTypeError\u001b[0m                                 Traceback (most recent call last)",
      "Cell \u001b[0;32mIn[5], line 2\u001b[0m\n\u001b[1;32m      1\u001b[0m rally \u001b[38;5;241m=\u001b[39m rally[[\u001b[38;5;124m'\u001b[39m\u001b[38;5;124mgame_id\u001b[39m\u001b[38;5;124m'\u001b[39m, \u001b[38;5;124m'\u001b[39m\u001b[38;5;124mrally_id\u001b[39m\u001b[38;5;124m'\u001b[39m, \u001b[38;5;124m'\u001b[39m\u001b[38;5;124mrally_nbr\u001b[39m\u001b[38;5;124m'\u001b[39m, \u001b[38;5;124m'\u001b[39m\u001b[38;5;124msrv_team_id\u001b[39m\u001b[38;5;124m'\u001b[39m, \u001b[38;5;124m'\u001b[39m\u001b[38;5;124mw_team_id\u001b[39m\u001b[38;5;124m'\u001b[39m, \u001b[38;5;124m'\u001b[39m\u001b[38;5;124mto_team_id\u001b[39m\u001b[38;5;124m'\u001b[39m]]\n\u001b[0;32m----> 2\u001b[0m rally[\u001b[38;5;124m'\u001b[39m\u001b[38;5;124mgame_id\u001b[39m\u001b[38;5;124m'\u001b[39m] \u001b[38;5;241m=\u001b[39m [\u001b[38;5;28mint\u001b[39m(x[\u001b[38;5;241m1\u001b[39m:]) \u001b[38;5;28;01mfor\u001b[39;00m x \u001b[38;5;129;01min\u001b[39;00m rally\u001b[38;5;241m.\u001b[39mgame_id]\n\u001b[1;32m      3\u001b[0m rally[\u001b[38;5;124m'\u001b[39m\u001b[38;5;124mrally_id\u001b[39m\u001b[38;5;124m'\u001b[39m] \u001b[38;5;241m=\u001b[39m [\u001b[38;5;28mint\u001b[39m(x[\u001b[38;5;241m1\u001b[39m:]) \u001b[38;5;28;01mfor\u001b[39;00m x \u001b[38;5;129;01min\u001b[39;00m rally\u001b[38;5;241m.\u001b[39mrally_id]\n\u001b[1;32m      4\u001b[0m rally \u001b[38;5;241m=\u001b[39m rally\u001b[38;5;241m.\u001b[39msort_values([\u001b[38;5;124m'\u001b[39m\u001b[38;5;124mgame_id\u001b[39m\u001b[38;5;124m'\u001b[39m, \u001b[38;5;124m'\u001b[39m\u001b[38;5;124mrally_id\u001b[39m\u001b[38;5;124m'\u001b[39m, \u001b[38;5;124m'\u001b[39m\u001b[38;5;124mrally_nbr\u001b[39m\u001b[38;5;124m'\u001b[39m])\u001b[38;5;241m.\u001b[39mreset_index(drop\u001b[38;5;241m=\u001b[39m\u001b[38;5;28;01mTrue\u001b[39;00m)\n",
      "Cell \u001b[0;32mIn[5], line 2\u001b[0m, in \u001b[0;36m<listcomp>\u001b[0;34m(.0)\u001b[0m\n\u001b[1;32m      1\u001b[0m rally \u001b[38;5;241m=\u001b[39m rally[[\u001b[38;5;124m'\u001b[39m\u001b[38;5;124mgame_id\u001b[39m\u001b[38;5;124m'\u001b[39m, \u001b[38;5;124m'\u001b[39m\u001b[38;5;124mrally_id\u001b[39m\u001b[38;5;124m'\u001b[39m, \u001b[38;5;124m'\u001b[39m\u001b[38;5;124mrally_nbr\u001b[39m\u001b[38;5;124m'\u001b[39m, \u001b[38;5;124m'\u001b[39m\u001b[38;5;124msrv_team_id\u001b[39m\u001b[38;5;124m'\u001b[39m, \u001b[38;5;124m'\u001b[39m\u001b[38;5;124mw_team_id\u001b[39m\u001b[38;5;124m'\u001b[39m, \u001b[38;5;124m'\u001b[39m\u001b[38;5;124mto_team_id\u001b[39m\u001b[38;5;124m'\u001b[39m]]\n\u001b[0;32m----> 2\u001b[0m rally[\u001b[38;5;124m'\u001b[39m\u001b[38;5;124mgame_id\u001b[39m\u001b[38;5;124m'\u001b[39m] \u001b[38;5;241m=\u001b[39m [\u001b[38;5;28mint\u001b[39m(\u001b[43mx\u001b[49m\u001b[43m[\u001b[49m\u001b[38;5;241;43m1\u001b[39;49m\u001b[43m:\u001b[49m\u001b[43m]\u001b[49m) \u001b[38;5;28;01mfor\u001b[39;00m x \u001b[38;5;129;01min\u001b[39;00m rally\u001b[38;5;241m.\u001b[39mgame_id]\n\u001b[1;32m      3\u001b[0m rally[\u001b[38;5;124m'\u001b[39m\u001b[38;5;124mrally_id\u001b[39m\u001b[38;5;124m'\u001b[39m] \u001b[38;5;241m=\u001b[39m [\u001b[38;5;28mint\u001b[39m(x[\u001b[38;5;241m1\u001b[39m:]) \u001b[38;5;28;01mfor\u001b[39;00m x \u001b[38;5;129;01min\u001b[39;00m rally\u001b[38;5;241m.\u001b[39mrally_id]\n\u001b[1;32m      4\u001b[0m rally \u001b[38;5;241m=\u001b[39m rally\u001b[38;5;241m.\u001b[39msort_values([\u001b[38;5;124m'\u001b[39m\u001b[38;5;124mgame_id\u001b[39m\u001b[38;5;124m'\u001b[39m, \u001b[38;5;124m'\u001b[39m\u001b[38;5;124mrally_id\u001b[39m\u001b[38;5;124m'\u001b[39m, \u001b[38;5;124m'\u001b[39m\u001b[38;5;124mrally_nbr\u001b[39m\u001b[38;5;124m'\u001b[39m])\u001b[38;5;241m.\u001b[39mreset_index(drop\u001b[38;5;241m=\u001b[39m\u001b[38;5;28;01mTrue\u001b[39;00m)\n",
      "\u001b[0;31mTypeError\u001b[0m: 'Timestamp' object is not subscriptable"
     ]
    }
   ],
   "source": [
    "rally = rally[['game_id', 'rally_id', 'rally_nbr', 'srv_team_id', 'w_team_id', 'to_team_id']]\n",
    "rally['game_id'] = [int(x[1:]) for x in rally.game_id]\n",
    "rally['rally_id'] = [int(x[1:]) for x in rally.rally_id]\n",
    "rally = rally.sort_values(['game_id', 'rally_id', 'rally_nbr']).reset_index(drop=True)"
   ]
  },
  {
   "cell_type": "code",
   "execution_count": null,
   "id": "f5be170a",
   "metadata": {},
   "outputs": [],
   "source": [
    "game=pullawsdata('game')[['match_id','game_id','game_nbr','score_w','score_l','w_team_id','l_team_id','skill_lvl']]\n",
    "game['game_id'] = [int(x[1:]) for x in game.game_id]\n",
    "game['match_id'] = [int(x[1:]) for x in game.match_id]\n",
    "game.skill_lvl.iloc[game.skill_lvl == '4'] = '4.0'\n",
    "game.skill_lvl.iloc[game.skill_lvl == '5'] = '5.0'\n",
    "game = game.sort_values(['match_id','game_id']).reset_index(drop=True)"
   ]
  },
  {
   "cell_type": "code",
   "execution_count": null,
   "id": "2735ad23",
   "metadata": {},
   "outputs": [],
   "source": [
    "glist = list(rally.game_id.unique())\n",
    "dlist = []\n",
    "for i in range(len(glist)):\n",
    "    gi = rally[rally.game_id==glist[i]].reset_index(drop=True)\n",
    "    to_list = []\n",
    "    to_game = glist[i]\n",
    "    to_inds = list(gi.index[gi.to_team_id != 'N/A'])\n",
    "    to_teams = list(gi.to_team_id[gi.to_team_id != 'N/A'])\n",
    "    skill_lvl = list(game.skill_lvl[game.game_id == glist[i]])[0]\n",
    "    if (len(to_inds) > 0):\n",
    "        for j in range(len(to_inds)):\n",
    "            if j == 0:\n",
    "                pre = list(range(to_inds[j]))\n",
    "            else:\n",
    "                pre = list(range(to_inds[j-1]+1,to_inds[j]))\n",
    "            if j == len(to_inds)-1:\n",
    "                post = list(range(to_inds[j]+1,len(gi)))\n",
    "            else:\n",
    "                post = list(range(to_inds[j]+1,to_inds[j+1]))\n",
    "            toteam = to_teams[j]\n",
    "            rallynbr = gi.rally_nbr.iloc[to_inds[j]]\n",
    "            winpre = round(100*len(gi.iloc[pre][lambda x:x.w_team_id == toteam])/len(pre),1)\n",
    "            winpost = round(100*len(gi.iloc[post][lambda x:x.w_team_id == toteam])/len(post),1)\n",
    "            windelta = round(winpost-winpre,1)\n",
    "            dlist.append([to_game,skill_lvl,j+1,toteam,rallynbr,winpre,winpost,windelta])"
   ]
  },
  {
   "cell_type": "code",
   "execution_count": null,
   "id": "568defe3",
   "metadata": {},
   "outputs": [],
   "source": [
    "df_timeout = pd.DataFrame(dlist,columns=['game_id','skill_lvl','to_nbr','to_team','rally_nbr','prewin','postwin','deltawin'])"
   ]
  },
  {
   "cell_type": "code",
   "execution_count": null,
   "id": "ecaf250e",
   "metadata": {},
   "outputs": [],
   "source": [
    "print('change in win percentage due to timeouts\\n')\n",
    "print(f'average: {round(df_timeout.deltawin.mean(),1)}')\n",
    "print(f'median:  {df_timeout.deltawin.median()}')\n",
    "print(f'maximum: {df_timeout.deltawin.max()}')\n",
    "print(f'minimum: {df_timeout.deltawin.min()}')                                                      "
   ]
  },
  {
   "cell_type": "code",
   "execution_count": null,
   "id": "b591defb",
   "metadata": {},
   "outputs": [],
   "source": [
    "df_timeout.sort_values('deltawin').to_csv('timeout_momentum_sorted.csv',index=False)"
   ]
  },
  {
   "cell_type": "code",
   "execution_count": null,
   "id": "41dd4adb",
   "metadata": {
    "collapsed": true,
    "jupyter": {
     "outputs_hidden": true
    }
   },
   "outputs": [],
   "source": [
    "df_wteam = game[['w_team_id','game_id']].groupby('w_team_id').count().reset_index(drop=False)\n",
    "df_lteam = game[['l_team_id','game_id']].groupby('l_team_id').count().reset_index(drop=False)\n",
    "df_wteam.columns=['team_id','won']\n",
    "df_lteam.columns=['team_id','lost']\n",
    "df_wl=df_wteam.merge(df_lteam,on='team_id',how='left')\n",
    "df_lw=df_lteam.merge(df_wteam,on='team_id',how='left')\n",
    "df_wnl = df_wl[df_wl.lost.notnull()]\n",
    "df_w=df_wl[df_wl.lost.isnull()]\n",
    "df_l=df_lw[df_lw.won.isnull()]\n",
    "df_allres = pd.concat([pd.concat([df_wnl,df_w]),df_l]).fillna(0)\n",
    "df_allres['GP'] = df_allres['won']+df_allres['lost']\n",
    "df_allres[['won','lost','GP']] = df_allres[['won','lost','GP']].astype(int)\n",
    "df_allres['team_id'] = [int(x[1:]) for x in df_allres.team_id]\n",
    "df_allres = df_allres.sort_values('team_id')\n",
    "df_allres.team_id = 'T'+df_allres.team_id.astype(str)\n",
    "df_tobyteam = df_timeout[['to_team','game_id']].groupby('to_team').count().reset_index(drop=False)\n",
    "df_tobyteam.columns = ['team_id','TO']\n",
    "df_teammetrx = df_allres.merge(df_tobyteam,on='team_id',how='left')\n",
    "df_teammetrx.TO = df_teammetrx['TO'].fillna(0).astype(int)\n",
    "df_teammetrx['TOsPerGame'] = (df_teammetrx.TO/df_teammetrx.GP).round(2)\n",
    "df_teamcalc = df_timeout[['to_team','deltawin']].groupby('to_team').mean().round(1).reset_index(drop=False)\n",
    "df_teamcalc.columns=['team_id','avgDeltaWin']\n",
    "df_teammetrx = df_teammetrx.merge(df_teamcalc,on='team_id',how='left')\n",
    "df_teammetrx=df_teammetrx[['team_id', 'GP', 'TO', 'TOsPerGame', 'avgDeltaWin']]\n",
    "df_teammetrx = df_teammetrx.sort_values('avgDeltaWin',ascending=False).merge(pullawsdata('team')[['team_id','team_nm']],on='team_id',how='left').drop_duplicates()\n",
    "df_teammetrx.to_csv('team_timeout_data.csv',index=False)\n",
    "print('team timeout data, sorted descending by average win % change:\\n ')\n",
    "df_teammetrx"
   ]
  },
  {
   "cell_type": "code",
   "execution_count": null,
   "id": "b69e4e62",
   "metadata": {},
   "outputs": [],
   "source": [
    "df_skill = game[['skill_lvl','game_id']].groupby('skill_lvl').count().round(1).reset_index(drop=False)\n",
    "df_skill.columns=[['skill_lvl','num_games']]\n",
    "df_skill['avg_delta_win'] = (df_timeout[['skill_lvl','deltawin']].groupby('skill_lvl').mean().round(1).reset_index(drop=False))['deltawin']\n",
    "df_skill['pct_total'] = (100*df_skill.num_games/(df_skill.num_games.sum())).round(1)\n",
    "df_skill[['skill_lvl','avg_delta_win','num_games','pct_total']].reset_index(drop=False)"
   ]
  },
  {
   "cell_type": "code",
   "execution_count": null,
   "id": "d9d7a2d5",
   "metadata": {},
   "outputs": [],
   "source": [
    "%matplotlib inline\n",
    "plt.rcParams.update({'figure.figsize':(12,5), 'figure.dpi':100})\n",
    "plt.hist(df_timeout.deltawin, bins=14)\n",
    "plt.gca().set(title='Frequency Histogram', xlabel = 'win % change', ylabel='Frequency');"
   ]
  },
  {
   "cell_type": "markdown",
   "id": "58ed3b16",
   "metadata": {},
   "source": [
    "## Group plots by skill level"
   ]
  },
  {
   "cell_type": "code",
   "execution_count": null,
   "id": "e929710d",
   "metadata": {},
   "outputs": [],
   "source": [
    "df_pro=df_timeout[df_timeout.skill_lvl == 'Pro']\n",
    "df_40=df_timeout[df_timeout.skill_lvl == '4.0']\n",
    "df_45=df_timeout[df_timeout.skill_lvl == '4.5']\n",
    "df_50=df_timeout[df_timeout.skill_lvl == '5.0']\n",
    "skilldata=[list(x.deltawin) for x in [df_40,df_45,df_50,df_pro,df_timeout]]"
   ]
  },
  {
   "cell_type": "code",
   "execution_count": null,
   "id": "1d22d278",
   "metadata": {},
   "outputs": [],
   "source": [
    "import numpy as np\n",
    "np.linspace(1,5,5)"
   ]
  },
  {
   "cell_type": "code",
   "execution_count": null,
   "id": "bff51884",
   "metadata": {},
   "outputs": [],
   "source": [
    "rally[rally.game_id == 55]"
   ]
  },
  {
   "cell_type": "code",
   "execution_count": null,
   "id": "932cd79a",
   "metadata": {},
   "outputs": [],
   "source": [
    "fig, ax = plt.subplots(figsize=(14, 8))\n",
    "HIST_BINS = np.linspace(-60, 60, 24)\n",
    "p = sns.histplot(x=\"deltawin\",data=df_timeout,hue=\"skill_lvl\",bins=HIST_BINS,stat=\"count\",alpha=.33,kde=True,\\\n",
    "             common_norm=True,discrete=False,common_bins=True,fill=True,element='step',multiple='layer')\n",
    "p.set_xlabel(\"Change in Rally Win % From Timeouat\",fontsize=10)\n",
    "p.set_ylabel(\"Instances\",fontsize=10)\n",
    "plt.show()"
   ]
  },
  {
   "cell_type": "code",
   "execution_count": null,
   "id": "bf6c7650",
   "metadata": {},
   "outputs": [],
   "source": [
    "fig, ax = plt.subplots(figsize=(14, 8))\n",
    "meanlineprops = dict(linestyle='-', linewidth=2.0, color='black')\n",
    "medianlineprops = dict(linestyle='--', linewidth=1.0, color='black')\n",
    "\n",
    "\n",
    "box = plt.boxplot(skilldata,autorange=True,vert=0,patch_artist=True,showmeans=True,medianprops=medianlineprops,\\\n",
    "                  meanline=True,meanprops=meanlineprops,labels=['4.0','4.5','5.0','Pro','All'])\n",
    "\n",
    "colors = ['red', 'orange', 'yellow', 'green', 'white']\n",
    "for patch, color in zip(box['boxes'], colors):\n",
    "    patch.set_facecolor(color)\n",
    "plt.show()"
   ]
  },
  {
   "cell_type": "code",
   "execution_count": null,
   "id": "5ad71913",
   "metadata": {},
   "outputs": [],
   "source": [
    "fig, ax = plt.subplots(figsize=(14, 8))\n",
    "vio=plt.violinplot(skilldata,vert=0,showextrema=True,showmeans=True,widths=.8)\n",
    "plt.show()"
   ]
  },
  {
   "cell_type": "markdown",
   "id": "28ace0dd",
   "metadata": {},
   "source": [
    "## Repeat plots - but distinguishing between only 2 skill levels:  \"Pro\" and \"Amateur\""
   ]
  },
  {
   "cell_type": "code",
   "execution_count": null,
   "id": "a64be5c5",
   "metadata": {},
   "outputs": [],
   "source": [
    "df_timeout_bypro = df_timeout\n",
    "df_timeout_bypro.skill_lvl.iloc[df_timeout_bypro.skill_lvl != 'Pro'] = 'Amateur'\n",
    "df_pro=df_timeout_bypro[df_timeout_bypro.skill_lvl == 'Pro']\n",
    "df_amtr=df_timeout_bypro[df_timeout_bypro.skill_lvl == 'Amateur']\n",
    "skilldata=[list(x.deltawin) for x in [df_amtr,df_pro,df_timeout_bypro]]"
   ]
  },
  {
   "cell_type": "code",
   "execution_count": null,
   "id": "18f05539",
   "metadata": {},
   "outputs": [],
   "source": [
    "df_timeout_bypro.sort_values('deltawin').head(10)"
   ]
  },
  {
   "cell_type": "code",
   "execution_count": null,
   "id": "7a8709e9",
   "metadata": {},
   "outputs": [],
   "source": [
    "df_timeout_bypro.sort_values('deltawin').tail(20)"
   ]
  },
  {
   "cell_type": "code",
   "execution_count": null,
   "id": "b65598a0",
   "metadata": {},
   "outputs": [],
   "source": [
    "rally[rally.game_id == 28]"
   ]
  },
  {
   "cell_type": "code",
   "execution_count": null,
   "id": "73605156",
   "metadata": {},
   "outputs": [],
   "source": [
    "fig, ax = plt.subplots(figsize=(14, 8))\n",
    "HIST_BINS = np.linspace(-60, 60, 24)\n",
    "p=sns.histplot(x=\"deltawin\",data=df_timeout,hue=\"skill_lvl\",bins=HIST_BINS,stat=\"count\",alpha=.33,kde=True,\\\n",
    "             common_norm=True,discrete=False,common_bins=True,fill=True,element='step',multiple='layer')\n",
    "p.set_xlabel(\"Change in Rally Win % From Timeout\",fontsize=10)\n",
    "p.set_ylabel(\"Instances\",fontsize=10)\n",
    "plt.show()"
   ]
  },
  {
   "cell_type": "code",
   "execution_count": null,
   "id": "d283719f",
   "metadata": {},
   "outputs": [],
   "source": [
    "fig, ax = plt.subplots(figsize=(14, 8))\n",
    "meanlineprops = dict(linestyle='-', linewidth=2.0, color='black')\n",
    "medianlineprops = dict(linestyle='--', linewidth=1.0, color='black')\n",
    "\n",
    "\n",
    "box = plt.boxplot(skilldata,autorange=True,vert=0,patch_artist=True,showmeans=True,medianprops=medianlineprops,\\\n",
    "                  meanline=True,meanprops=meanlineprops,labels=['Amatuer','Pro','All'])\n",
    "\n",
    "colors = ['blue', 'red', 'white']\n",
    "for patch, color in zip(box['boxes'], colors):\n",
    "    patch.set_facecolor(color)\n",
    "print('mean = solid line, median = dashed line')\n",
    "plt.show()"
   ]
  },
  {
   "cell_type": "code",
   "execution_count": null,
   "id": "cdbc6d6b",
   "metadata": {
    "tags": []
   },
   "outputs": [],
   "source": [
    "fig, ax = plt.subplots(figsize=(14, 8))\n",
    "vio=plt.violinplot(skilldata,vert=0,showextrema=True,showmeans=True,widths=.8)\n",
    "plt.show()"
   ]
  }
 ],
 "metadata": {
  "kernelspec": {
   "display_name": "Python 3 (ipykernel)",
   "language": "python",
   "name": "python3"
  },
  "language_info": {
   "codemirror_mode": {
    "name": "ipython",
    "version": 3
   },
   "file_extension": ".py",
   "mimetype": "text/x-python",
   "name": "python",
   "nbconvert_exporter": "python",
   "pygments_lexer": "ipython3",
   "version": "3.10.10"
  }
 },
 "nbformat": 4,
 "nbformat_minor": 5
}
