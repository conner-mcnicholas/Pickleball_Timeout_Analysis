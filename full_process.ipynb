{
 "cells": [
  {
   "cell_type": "code",
   "execution_count": 7,
   "id": "c37d4312",
   "metadata": {},
   "outputs": [],
   "source": [
    "import pandas as pd\n",
    "import numpy as np\n",
    "from collections import Counter"
   ]
  },
  {
   "cell_type": "code",
   "execution_count": 8,
   "id": "7950299a",
   "metadata": {},
   "outputs": [
    {
     "name": "stdout",
     "output_type": "stream",
     "text": [
      "GAME:\n",
      " \n"
     ]
    },
    {
     "data": {
      "text/html": [
       "<div>\n",
       "<style scoped>\n",
       "    .dataframe tbody tr th:only-of-type {\n",
       "        vertical-align: middle;\n",
       "    }\n",
       "\n",
       "    .dataframe tbody tr th {\n",
       "        vertical-align: top;\n",
       "    }\n",
       "\n",
       "    .dataframe thead th {\n",
       "        text-align: right;\n",
       "    }\n",
       "</style>\n",
       "<table border=\"1\" class=\"dataframe\">\n",
       "  <thead>\n",
       "    <tr style=\"text-align: right;\">\n",
       "      <th></th>\n",
       "      <th>match_id</th>\n",
       "      <th>game_id</th>\n",
       "      <th>game_nbr</th>\n",
       "      <th>score_w</th>\n",
       "      <th>score_l</th>\n",
       "      <th>w_team_id</th>\n",
       "      <th>l_team_id</th>\n",
       "      <th>skill_lvl</th>\n",
       "    </tr>\n",
       "  </thead>\n",
       "  <tbody>\n",
       "    <tr>\n",
       "      <th>0</th>\n",
       "      <td>1</td>\n",
       "      <td>1</td>\n",
       "      <td>1</td>\n",
       "      <td>12</td>\n",
       "      <td>10</td>\n",
       "      <td>T2</td>\n",
       "      <td>T1</td>\n",
       "      <td>Pro</td>\n",
       "    </tr>\n",
       "    <tr>\n",
       "      <th>1</th>\n",
       "      <td>1</td>\n",
       "      <td>2</td>\n",
       "      <td>2</td>\n",
       "      <td>11</td>\n",
       "      <td>7</td>\n",
       "      <td>T1</td>\n",
       "      <td>T2</td>\n",
       "      <td>Pro</td>\n",
       "    </tr>\n",
       "  </tbody>\n",
       "</table>\n",
       "</div>"
      ],
      "text/plain": [
       "   match_id  game_id  game_nbr  score_w  score_l w_team_id l_team_id skill_lvl\n",
       "0         1        1         1       12       10        T2        T1       Pro\n",
       "1         1        2         2       11        7        T1        T2       Pro"
      ]
     },
     "execution_count": 8,
     "metadata": {},
     "output_type": "execute_result"
    }
   ],
   "source": [
    "df_game = pd.read_csv('csvs/game.csv')[['match_id','game_id','game_nbr','score_w',\n",
    "                                        'score_l','w_team_id','l_team_id','skill_lvl']]\n",
    "df_game['game_id'] = [int(x[1:]) for x in df_game.game_id]\n",
    "df_game['match_id'] = [int(x[1:]) for x in df_game.match_id]\n",
    "df_game = df_game.sort_values(['match_id','game_id']).reset_index(drop=True)\n",
    "print('GAME:\\n ')\n",
    "df_game.head(2)"
   ]
  },
  {
   "cell_type": "code",
   "execution_count": 9,
   "id": "4a0173e8",
   "metadata": {},
   "outputs": [
    {
     "name": "stdout",
     "output_type": "stream",
     "text": [
      "RALLY:\n",
      "\n"
     ]
    },
    {
     "data": {
      "text/html": [
       "<div>\n",
       "<style scoped>\n",
       "    .dataframe tbody tr th:only-of-type {\n",
       "        vertical-align: middle;\n",
       "    }\n",
       "\n",
       "    .dataframe tbody tr th {\n",
       "        vertical-align: top;\n",
       "    }\n",
       "\n",
       "    .dataframe thead th {\n",
       "        text-align: right;\n",
       "    }\n",
       "</style>\n",
       "<table border=\"1\" class=\"dataframe\">\n",
       "  <thead>\n",
       "    <tr style=\"text-align: right;\">\n",
       "      <th></th>\n",
       "      <th>match_id</th>\n",
       "      <th>game_id</th>\n",
       "      <th>rally_id</th>\n",
       "      <th>point_nbr</th>\n",
       "      <th>srv_team_id</th>\n",
       "      <th>rtrn_team_id</th>\n",
       "      <th>w_team_id</th>\n",
       "      <th>to_ind</th>\n",
       "      <th>to_team_id</th>\n",
       "      <th>ending_type</th>\n",
       "    </tr>\n",
       "  </thead>\n",
       "  <tbody>\n",
       "    <tr>\n",
       "      <th>0</th>\n",
       "      <td>1</td>\n",
       "      <td>1</td>\n",
       "      <td>1</td>\n",
       "      <td>1</td>\n",
       "      <td>T1</td>\n",
       "      <td>T2</td>\n",
       "      <td>T2</td>\n",
       "      <td>N</td>\n",
       "      <td>NaN</td>\n",
       "      <td>Other</td>\n",
       "    </tr>\n",
       "    <tr>\n",
       "      <th>1</th>\n",
       "      <td>1</td>\n",
       "      <td>1</td>\n",
       "      <td>2</td>\n",
       "      <td>2</td>\n",
       "      <td>T2</td>\n",
       "      <td>T1</td>\n",
       "      <td>T2</td>\n",
       "      <td>N</td>\n",
       "      <td>NaN</td>\n",
       "      <td>Winner</td>\n",
       "    </tr>\n",
       "  </tbody>\n",
       "</table>\n",
       "</div>"
      ],
      "text/plain": [
       "   match_id  game_id  rally_id  point_nbr srv_team_id rtrn_team_id w_team_id  \\\n",
       "0         1        1         1          1          T1           T2        T2   \n",
       "1         1        1         2          2          T2           T1        T2   \n",
       "\n",
       "  to_ind to_team_id ending_type  \n",
       "0      N        NaN       Other  \n",
       "1      N        NaN      Winner  "
      ]
     },
     "execution_count": 9,
     "metadata": {},
     "output_type": "execute_result"
    }
   ],
   "source": [
    "df_rally = pd.read_csv('csvs/rally.csv')\n",
    "df_rally = df_rally[['match_id', 'game_id', 'rally_id', 'point_nbr', 'srv_team_id',\n",
    "                     'rtrn_team_id', 'w_team_id', 'to_ind', 'to_team_id', 'ending_type']]\n",
    "df_rally['match_id'] = [int(x[1:]) for x in df_rally.match_id]\n",
    "df_rally['game_id'] = [int(x[1:]) for x in df_rally.game_id]\n",
    "df_rally['rally_id'] = [int(x[1:]) for x in df_rally.rally_id]\n",
    "df_rally = df_rally.sort_values(\n",
    "    ['match_id', 'game_id', 'rally_id', 'point_nbr']).reset_index(drop=True)\n",
    "print('RALLY:\\n')\n",
    "df_rally.head(2)"
   ]
  },
  {
   "cell_type": "code",
   "execution_count": 10,
   "id": "91c4acd8",
   "metadata": {},
   "outputs": [],
   "source": [
    "def generate_streak_info(df,strkcol):\n",
    "    \"\"\"\n",
    "    Parameters\n",
    "    ----------\n",
    "    \n",
    "    df:\n",
    "        A homogenous dataframe, \n",
    "        i.e. contains only the data germaine to the desired streak  \n",
    "        (e.g. all rallys for a single game) \n",
    "        and be pre-sorted chronologically\n",
    "    strkcol:\n",
    "        Column within df with 2 unique values \n",
    "        \n",
    "    Returns\n",
    "    -------\n",
    "\n",
    "    streaks:\n",
    "        df with a new column\n",
    "        strk_{strkcol} containing tallies for each streak.\n",
    "    \"\"\"\n",
    "    data = df[strkcol].to_frame()\n",
    "    data['strk_init'] = data[strkcol].ne(data[strkcol].shift())\n",
    "    data['strk_id'] = data.strk_init.cumsum()\n",
    "    strk_field = f'strk_{strkcol}'\n",
    "    data[strk_field] = data.groupby('strk_id').cumcount() + 1\n",
    "    streaks = pd.concat([df, data[strk_field]], axis=1)\n",
    "    return streaks"
   ]
  },
  {
   "cell_type": "code",
   "execution_count": 11,
   "id": "57181f76",
   "metadata": {},
   "outputs": [],
   "source": [
    "all_to_strks=[]\n",
    "for i in df_game.game_id:\n",
    "    dfi = df_rally[df_rally.game_id==i]\n",
    "    dfi = generate_streak_info(dfi,'to_ind')\n",
    "    all_to_strks.append(list(dfi.strk_to_ind))\n",
    "all_to_strks = list(np.concatenate(all_to_strks).flat)\n",
    "df_rally['to_streaks'] = all_to_strks"
   ]
  },
  {
   "cell_type": "code",
   "execution_count": 12,
   "id": "677070d7",
   "metadata": {},
   "outputs": [],
   "source": [
    "#df_rally[df_rally.game_id==1].to_csv('TO_streaks_game1.csv')\n"
   ]
  },
  {
   "cell_type": "code",
   "execution_count": 14,
   "id": "cee5fd60",
   "metadata": {},
   "outputs": [
    {
     "data": {
      "text/plain": [
       "2043"
      ]
     },
     "execution_count": 14,
     "metadata": {},
     "output_type": "execute_result"
    }
   ],
   "source": [
    "len(df_rally)"
   ]
  },
  {
   "cell_type": "code",
   "execution_count": 15,
   "id": "36153862",
   "metadata": {},
   "outputs": [
    {
     "data": {
      "text/plain": [
       "43"
      ]
     },
     "execution_count": 15,
     "metadata": {},
     "output_type": "execute_result"
    }
   ],
   "source": [
    "len(df_game)"
   ]
  }
 ],
 "metadata": {
  "kernelspec": {
   "display_name": "Python 3 (ipykernel)",
   "language": "python",
   "name": "python3"
  },
  "language_info": {
   "codemirror_mode": {
    "name": "ipython",
    "version": 3
   },
   "file_extension": ".py",
   "mimetype": "text/x-python",
   "name": "python",
   "nbconvert_exporter": "python",
   "pygments_lexer": "ipython3",
   "version": "3.9.12"
  }
 },
 "nbformat": 4,
 "nbformat_minor": 5
}
